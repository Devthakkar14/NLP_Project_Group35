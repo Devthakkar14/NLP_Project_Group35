{
  "nbformat": 4,
  "nbformat_minor": 0,
  "metadata": {
    "colab": {
      "provenance": [],
      "gpuType": "T4"
    },
    "kernelspec": {
      "name": "python3",
      "display_name": "Python 3"
    },
    "language_info": {
      "name": "python"
    },
    "accelerator": "GPU"
  },
  "cells": [
    {
      "cell_type": "code",
      "execution_count": 1,
      "metadata": {
        "colab": {
          "base_uri": "https://localhost:8080/"
        },
        "id": "m6wcCJwyb6hM",
        "outputId": "27b30c7a-c6ea-4f29-ace1-ad3d58a7f0d0"
      },
      "outputs": [
        {
          "output_type": "stream",
          "name": "stdout",
          "text": [
            "Drive already mounted at /content/drive; to attempt to forcibly remount, call drive.mount(\"/content/drive\", force_remount=True).\n"
          ]
        }
      ],
      "source": [
        "from google.colab import drive\n",
        "drive.mount('/content/drive')"
      ]
    },
    {
      "cell_type": "code",
      "source": [
        "!pip install datasets"
      ],
      "metadata": {
        "colab": {
          "base_uri": "https://localhost:8080/"
        },
        "id": "-GYBJTt6cUxY",
        "outputId": "7c85dd37-b4b9-41fb-854a-5e5f9a77ceb9"
      },
      "execution_count": 2,
      "outputs": [
        {
          "output_type": "stream",
          "name": "stdout",
          "text": [
            "Requirement already satisfied: datasets in /usr/local/lib/python3.10/dist-packages (2.19.0)\n",
            "Requirement already satisfied: filelock in /usr/local/lib/python3.10/dist-packages (from datasets) (3.13.4)\n",
            "Requirement already satisfied: numpy>=1.17 in /usr/local/lib/python3.10/dist-packages (from datasets) (1.25.2)\n",
            "Requirement already satisfied: pyarrow>=12.0.0 in /usr/local/lib/python3.10/dist-packages (from datasets) (14.0.2)\n",
            "Requirement already satisfied: pyarrow-hotfix in /usr/local/lib/python3.10/dist-packages (from datasets) (0.6)\n",
            "Requirement already satisfied: dill<0.3.9,>=0.3.0 in /usr/local/lib/python3.10/dist-packages (from datasets) (0.3.8)\n",
            "Requirement already satisfied: pandas in /usr/local/lib/python3.10/dist-packages (from datasets) (2.0.3)\n",
            "Requirement already satisfied: requests>=2.19.0 in /usr/local/lib/python3.10/dist-packages (from datasets) (2.31.0)\n",
            "Requirement already satisfied: tqdm>=4.62.1 in /usr/local/lib/python3.10/dist-packages (from datasets) (4.66.2)\n",
            "Requirement already satisfied: xxhash in /usr/local/lib/python3.10/dist-packages (from datasets) (3.4.1)\n",
            "Requirement already satisfied: multiprocess in /usr/local/lib/python3.10/dist-packages (from datasets) (0.70.16)\n",
            "Requirement already satisfied: fsspec[http]<=2024.3.1,>=2023.1.0 in /usr/local/lib/python3.10/dist-packages (from datasets) (2023.6.0)\n",
            "Requirement already satisfied: aiohttp in /usr/local/lib/python3.10/dist-packages (from datasets) (3.9.5)\n",
            "Requirement already satisfied: huggingface-hub>=0.21.2 in /usr/local/lib/python3.10/dist-packages (from datasets) (0.22.2)\n",
            "Requirement already satisfied: packaging in /usr/local/lib/python3.10/dist-packages (from datasets) (24.0)\n",
            "Requirement already satisfied: pyyaml>=5.1 in /usr/local/lib/python3.10/dist-packages (from datasets) (6.0.1)\n",
            "Requirement already satisfied: aiosignal>=1.1.2 in /usr/local/lib/python3.10/dist-packages (from aiohttp->datasets) (1.3.1)\n",
            "Requirement already satisfied: attrs>=17.3.0 in /usr/local/lib/python3.10/dist-packages (from aiohttp->datasets) (23.2.0)\n",
            "Requirement already satisfied: frozenlist>=1.1.1 in /usr/local/lib/python3.10/dist-packages (from aiohttp->datasets) (1.4.1)\n",
            "Requirement already satisfied: multidict<7.0,>=4.5 in /usr/local/lib/python3.10/dist-packages (from aiohttp->datasets) (6.0.5)\n",
            "Requirement already satisfied: yarl<2.0,>=1.0 in /usr/local/lib/python3.10/dist-packages (from aiohttp->datasets) (1.9.4)\n",
            "Requirement already satisfied: async-timeout<5.0,>=4.0 in /usr/local/lib/python3.10/dist-packages (from aiohttp->datasets) (4.0.3)\n",
            "Requirement already satisfied: typing-extensions>=3.7.4.3 in /usr/local/lib/python3.10/dist-packages (from huggingface-hub>=0.21.2->datasets) (4.11.0)\n",
            "Requirement already satisfied: charset-normalizer<4,>=2 in /usr/local/lib/python3.10/dist-packages (from requests>=2.19.0->datasets) (3.3.2)\n",
            "Requirement already satisfied: idna<4,>=2.5 in /usr/local/lib/python3.10/dist-packages (from requests>=2.19.0->datasets) (3.7)\n",
            "Requirement already satisfied: urllib3<3,>=1.21.1 in /usr/local/lib/python3.10/dist-packages (from requests>=2.19.0->datasets) (2.0.7)\n",
            "Requirement already satisfied: certifi>=2017.4.17 in /usr/local/lib/python3.10/dist-packages (from requests>=2.19.0->datasets) (2024.2.2)\n",
            "Requirement already satisfied: python-dateutil>=2.8.2 in /usr/local/lib/python3.10/dist-packages (from pandas->datasets) (2.8.2)\n",
            "Requirement already satisfied: pytz>=2020.1 in /usr/local/lib/python3.10/dist-packages (from pandas->datasets) (2023.4)\n",
            "Requirement already satisfied: tzdata>=2022.1 in /usr/local/lib/python3.10/dist-packages (from pandas->datasets) (2024.1)\n",
            "Requirement already satisfied: six>=1.5 in /usr/local/lib/python3.10/dist-packages (from python-dateutil>=2.8.2->pandas->datasets) (1.16.0)\n"
          ]
        }
      ]
    },
    {
      "cell_type": "code",
      "source": [
        "import pandas as pd\n",
        "from datasets import load_metric\n",
        "import torch\n",
        "# Load the model and tokenizer\n",
        "from transformers import T5ForConditionalGeneration, T5Tokenizer"
      ],
      "metadata": {
        "id": "6UrxotE8cSVp"
      },
      "execution_count": 3,
      "outputs": []
    },
    {
      "cell_type": "code",
      "source": [
        "model = T5ForConditionalGeneration.from_pretrained(\"/content/drive/MyDrive/t5_saved/t5_recipe_model\").to(\"cuda\")\n",
        "tokenizer = T5Tokenizer.from_pretrained(\"/content/drive/MyDrive/t5_saved/t5_recipe_tokenizer\")"
      ],
      "metadata": {
        "colab": {
          "base_uri": "https://localhost:8080/"
        },
        "id": "LRPDgO85cmZD",
        "outputId": "66ac8653-38d2-4046-9019-4e169ba88cd3"
      },
      "execution_count": 11,
      "outputs": [
        {
          "output_type": "stream",
          "name": "stderr",
          "text": [
            "Special tokens have been added in the vocabulary, make sure the associated word embeddings are fine-tuned or trained.\n"
          ]
        }
      ]
    },
    {
      "cell_type": "code",
      "source": [
        "# Load the dataset\n",
        "test_df = pd.read_csv('NLP_Recipe_test.csv')\n",
        "\n",
        "# Load BLEU metric\n",
        "bleu_metric = load_metric('bleu')"
      ],
      "metadata": {
        "colab": {
          "base_uri": "https://localhost:8080/"
        },
        "id": "YS8JI0ckcicM",
        "outputId": "668e7cb1-06f9-4100-c496-1774cdc60c66"
      },
      "execution_count": 5,
      "outputs": [
        {
          "output_type": "stream",
          "name": "stderr",
          "text": [
            "<ipython-input-5-80f3897ea024>:5: FutureWarning: load_metric is deprecated and will be removed in the next major version of datasets. Use 'evaluate.load' instead, from the new library 🤗 Evaluate: https://huggingface.co/docs/evaluate\n",
            "  bleu_metric = load_metric('bleu')\n",
            "/usr/local/lib/python3.10/dist-packages/datasets/load.py:759: FutureWarning: The repository for bleu contains custom code which must be executed to correctly load the metric. You can inspect the repository content at https://raw.githubusercontent.com/huggingface/datasets/2.19.0/metrics/bleu/bleu.py\n",
            "You can avoid this message in future by passing the argument `trust_remote_code=True`.\n",
            "Passing `trust_remote_code=True` will be mandatory to load this metric from the next major release of `datasets`.\n",
            "  warnings.warn(\n"
          ]
        }
      ]
    },
    {
      "cell_type": "code",
      "source": [
        "# Function to prepare data for T5 input\n",
        "def prepare_data(row):\n",
        "    ner_input = row['ner']  # Key ingredients input\n",
        "    prompt = f\"generate full recipe steps and ingredients for: {ner_input}\"\n",
        "    return prompt\n",
        "\n",
        "# Function to generate recipes and compute BLEU scores\n",
        "def generate_and_score(index, row):\n",
        "    prompt = prepare_data(row)\n",
        "    inputs = tokenizer(prompt, return_tensors=\"pt\", padding=True, truncation=True).to(\"cuda\")\n",
        "\n",
        "    # Generate outputs\n",
        "    with torch.no_grad():\n",
        "        outputs = model.generate(**inputs, max_length=512, num_beams=5, early_stopping=True)\n",
        "\n",
        "    generated_text = tokenizer.decode(outputs[0], skip_special_tokens=True)\n",
        "\n",
        "    # Compute BLEU score\n",
        "    true_combined = row['ingredients'] + \" \" + row['steps']\n",
        "    reference = [true_combined.split()]\n",
        "    candidate = generated_text.split()\n",
        "    bleu_score = bleu_metric.compute(predictions=[candidate], references=[reference])\n",
        "\n",
        "    return bleu_score['bleu'], generated_text"
      ],
      "metadata": {
        "id": "KvV-bARVcpMH"
      },
      "execution_count": 9,
      "outputs": []
    },
    {
      "cell_type": "code",
      "source": [
        "# Compute BLEU scores for the first 5 entries in the test dataset\n",
        "results = []\n",
        "for index, row in test_df.head(5).iterrows():\n",
        "    score, recipe = generate_and_score(index, row)\n",
        "    results.append((index, score, recipe))\n",
        "\n",
        "# Display results\n",
        "for index, score, recipe in results:\n",
        "    print(f\"Row {index} BLEU Score: {score:.4f}\")\n",
        "    print(\"Generated Recipe and Steps:\", recipe)\n",
        "    print(\"----------------------------------------\")"
      ],
      "metadata": {
        "colab": {
          "base_uri": "https://localhost:8080/"
        },
        "id": "wpx_W9mUcRW8",
        "outputId": "2d556b14-a5c9-4575-8ad7-c3ea42246939"
      },
      "execution_count": 12,
      "outputs": [
        {
          "output_type": "stream",
          "name": "stdout",
          "text": [
            "Row 0 BLEU Score: 0.0174\n",
            "Generated Recipe and Steps: full recipe steps and ingredients for: spaghetti, kipfilet, kerstomaten, basilicum, margarine, knorr kruidenpasta spaghetti bolognese generate full recipe steps and ingredients for: spaghetti, kipfilet, kerstomaten, basilicum, margarine, knorr kruidenpasta spaghetti bolognese generate full recipe steps and ingredients for: spaghetti, kipfilet,\n",
            "----------------------------------------\n",
            "Row 1 BLEU Score: 0.0000\n",
            "Generated Recipe and Steps: ,, garlic cloves, large onions, peeled and sliced, salt and pepper, olive oil, honey, divided, white wine, chicken broth, fresh rosemary and thyme sprigs for garnish optional: whole chicken without giblets, small handful of fresh rosemary sprigs, small handful of fresh thyme sprigs, peel from one small lemon, sliced, garlic cloves, large onions, peeled and sliced, salt and pepper, olive oil, honey\n",
            "----------------------------------------\n",
            "Row 2 BLEU Score: 0.1033\n",
            "Generated Recipe and Steps: full recipe steps and ingredients for: fresh figs, rinsed and halved, sugar, filtered water, freshly squeezed lemon juice, fig puree, honey, ginger ale, vodka, freshly squeezed lemon juice, ice, fig puree, honey, ginger ale, vodka, freshly squeezed lemon juice, fig puree, honey, ginger ale, vodka, freshly squeezed lemon juice, ice, fig puree, honey, ginger ale, vodka, freshly squeezed lemon juice, fig\n",
            "----------------------------------------\n",
            "Row 3 BLEU Score: 0.1189\n",
            "Generated Recipe and Steps: , red, /2 medium white onion, ground cumin, /2 teaspoon chili powder, of red pepper flakes, kosher salt, garlic, fresh lime juice, fajitas and garnishes, corn tortillas, olive oil spray, large eggs, crumbled guacamole, avocado, lime juice, kosher salt, veggies, extra virgin olive oil, red, /2 medium white onion, ground cumin, /2 teaspoon chili powder, of red pepper flakes, kosher\n",
            "----------------------------------------\n",
            "Row 4 BLEU Score: 0.0015\n",
            "Generated Recipe and Steps: tilapiafilet, paprika, paprika, bladselderij, rijst, zout, conimex romige kokosmelk, knorr chicken tonight milde tandoori, zonnebloemolie, garnalen: tilapiafilet, paprika, paprika, paprika, bladselderij, rijst,\n",
            "----------------------------------------\n"
          ]
        }
      ]
    }
  ]
}